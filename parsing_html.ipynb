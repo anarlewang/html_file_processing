{
 "cells": [
  {
   "cell_type": "code",
   "execution_count": 1,
   "id": "72912051",
   "metadata": {},
   "outputs": [],
   "source": [
    "import html_search_keyword"
   ]
  },
  {
   "cell_type": "code",
   "execution_count": 2,
   "id": "6deb915e",
   "metadata": {
    "scrolled": false
   },
   "outputs": [
    {
     "name": "stdout",
     "output_type": "stream",
     "text": [
      "Searching keyword cost of capital in file: data/2018-12-20_1230276.html\n",
      "Searching keyword closing sale prices in file: data/2018-12-20_1230276.html\n",
      "Searching keyword cost of capital in file: data/2018-12-21_1118237.html\n",
      "Searching keyword closing sale prices in file: data/2018-12-21_1118237.html\n",
      "Searching keyword cost of capital in file: data/2018-12-21_1131096.html\n",
      "Searching keyword closing sale prices in file: data/2018-12-21_1131096.html\n",
      "Searching keyword cost of capital in file: data/2018-12-21_1490349.html\n",
      "Searching keyword closing sale prices in file: data/2018-12-21_1490349.html\n",
      "Searching keyword cost of capital in file: data/2018-12-21_1611110.html\n",
      "Searching keyword closing sale prices in file: data/2018-12-21_1611110.html\n",
      "Searching keyword cost of capital in file: data/2018-12-21_1644963.html\n",
      "Searching keyword closing sale prices in file: data/2018-12-21_1644963.html\n",
      "Searching keyword cost of capital in file: data/2018-12-26_1681714.html\n",
      "Searching keyword closing sale prices in file: data/2018-12-26_1681714.html\n"
     ]
    }
   ],
   "source": [
    "example = html_search_keyword.search_keyword_files(\"data\",['cost of capital','closing sale prices'],start_year=\"2018-12-20\",end_year=\"2018-12-26\")"
   ]
  },
  {
   "cell_type": "code",
   "execution_count": 3,
   "id": "0590e62f",
   "metadata": {},
   "outputs": [
    {
     "data": {
      "text/plain": [
       "dict_keys(['cost of capital'])"
      ]
     },
     "execution_count": 3,
     "metadata": {},
     "output_type": "execute_result"
    }
   ],
   "source": [
    "example['data/2018-12-20_1230276.html'].keys()"
   ]
  },
  {
   "cell_type": "code",
   "execution_count": 4,
   "id": "52f53551",
   "metadata": {},
   "outputs": [
    {
     "data": {
      "text/plain": [
       "'Centerview performed a discounted cash flow analysis of Pandora based on the Pandora Scenario 1a Forecasts and the Pandora Scenario 2 Forecasts, respectively, other Pandora Internal Data and information reflected in public filings of Pandora. A discounted cash flow analysis is a traditionalvaluation methodology used to derive a valuation of an asset by calculating the “present value” of estimated future cash flows of the asset. “Present value” refers to the current value of future cash flows and is obtained by discounting those future cash flows by a discount rate that takes into accountmacroeconomic assumptions and estimates of risk, the opportunity cost of capital, expected returns and other appropriate factors.'"
      ]
     },
     "execution_count": 4,
     "metadata": {},
     "output_type": "execute_result"
    }
   ],
   "source": [
    "example['data/2018-12-20_1230276.html']['cost of capital'][0]"
   ]
  },
  {
   "cell_type": "code",
   "execution_count": 5,
   "id": "6ff181c4",
   "metadata": {},
   "outputs": [
    {
     "data": {
      "text/plain": [
       "dict_keys(['cost of capital', 'closing sale prices'])"
      ]
     },
     "execution_count": 5,
     "metadata": {},
     "output_type": "execute_result"
    }
   ],
   "source": [
    "example['data/2018-12-26_1681714.html'].keys()"
   ]
  },
  {
   "cell_type": "code",
   "execution_count": 7,
   "id": "8c45b287",
   "metadata": {},
   "outputs": [
    {
     "data": {
      "text/plain": [
       "'The following table sets forth the closing sale prices per share of Chesapeake common stockand WildHorse common stock as reported on the NYSE on October 29, 2018, the last trading day prior to the public announcement of the merger, and on December 24, 2018, the last practicable trading day prior to the mailing of this joint proxystatement/prospectus. Chesapeake common stock is traded on the NYSE under the symbol “CHK” and WildHorse common stock is traded on the NYSE under the symbol “WRD.” The table also shows the estimated implied value of the mergerconsideration proposed for each share of WildHorse common stock as of the same two dates. The implied value for share consideration was calculated by multiplying the closing sales price of a share of Chesapeake common stock on the relevant date bythe exchange ratio of 5.989 shares of Chesapeake common stock for each share of WildHorse common stock. The implied value for the mixed consideration was calculated by multiplying the closing sales price of a share of Chesapeake common stock on therelevant date by the exchange ratio of 5.336 shares of Chesapeake common stock plus $3.00 in cash for each share of WildHorse common stock.'"
      ]
     },
     "execution_count": 7,
     "metadata": {},
     "output_type": "execute_result"
    }
   ],
   "source": [
    "example['data/2018-12-26_1681714.html']['closing sale prices'][0]"
   ]
  },
  {
   "cell_type": "code",
   "execution_count": null,
   "id": "7be41dbf",
   "metadata": {},
   "outputs": [],
   "source": []
  }
 ],
 "metadata": {
  "kernelspec": {
   "display_name": "Python 3 (ipykernel)",
   "language": "python",
   "name": "python3"
  },
  "language_info": {
   "codemirror_mode": {
    "name": "ipython",
    "version": 3
   },
   "file_extension": ".py",
   "mimetype": "text/x-python",
   "name": "python",
   "nbconvert_exporter": "python",
   "pygments_lexer": "ipython3",
   "version": "3.9.12"
  }
 },
 "nbformat": 4,
 "nbformat_minor": 5
}
