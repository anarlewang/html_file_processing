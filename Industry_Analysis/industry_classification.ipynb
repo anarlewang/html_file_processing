{
 "cells": [
  {
   "cell_type": "code",
   "execution_count": 1,
   "metadata": {},
   "outputs": [],
   "source": [
    "import re\n",
    "import os\n",
    "import pandas as pd\n",
    "import unicodedata\n",
    "from bs4 import BeautifulSoup\n",
    "from datetime import datetime"
   ]
  },
  {
   "cell_type": "code",
   "execution_count": null,
   "metadata": {},
   "outputs": [],
   "source": [
    "import re\n",
    "import os\n",
    "import pandas as pd\n",
    "import unicodedata\n",
    "from bs4 import BeautifulSoup\n",
    "from datetime import datetime\n",
    "\n",
    "def find_relative_filenames(path,start_date,end_date):\n",
    "    start_datetime = datetime.strptime(start_date, '%Y-%m-%d')\n",
    "    end_datetime = datetime.strptime(end_date, '%Y-%m-%d')\n",
    "    file_names_html = [path+'/'+fn for fn in os.listdir(path) if fn.lower().endswith('html') and datetime.strptime(fn[:10], '%Y-%m-%d')>=start_datetime and datetime.strptime(fn[:10], '%Y-%m-%d')<=end_datetime]\n",
    "    file_names_txt = [path+'/'+fn for fn in os.listdir(path) if fn.lower().endswith('txt') and datetime.strptime(fn[:10], '%Y-%m-%d')>=start_datetime and datetime.strptime(fn[:10], '%Y-%m-%d')<=end_datetime]\n",
    "    return file_names_html, file_names_txt"
   ]
  },
  {
   "cell_type": "code",
   "execution_count": 135,
   "metadata": {},
   "outputs": [],
   "source": [
    "#reading the data \n",
    "filename_txt, filename_html = find_relative_filenames(\"data\",\"1995-01-10\",\"2022-12-10\")"
   ]
  },
  {
   "cell_type": "code",
   "execution_count": 136,
   "metadata": {},
   "outputs": [
    {
     "data": {
      "text/plain": [
       "1687"
      ]
     },
     "execution_count": 136,
     "metadata": {},
     "output_type": "execute_result"
    }
   ],
   "source": [
    "len(filename_txt)"
   ]
  },
  {
   "cell_type": "code",
   "execution_count": 137,
   "metadata": {},
   "outputs": [
    {
     "data": {
      "text/plain": [
       "3346"
      ]
     },
     "execution_count": 137,
     "metadata": {},
     "output_type": "execute_result"
    }
   ],
   "source": [
    "len(filename_html)"
   ]
  },
  {
   "cell_type": "code",
   "execution_count": 138,
   "metadata": {},
   "outputs": [
    {
     "data": {
      "text/plain": [
       "'data/2016-02-04_1062438.html'"
      ]
     },
     "execution_count": 138,
     "metadata": {},
     "output_type": "execute_result"
    }
   ],
   "source": [
    "filename_html[1]"
   ]
  },
  {
   "cell_type": "code",
   "execution_count": 139,
   "metadata": {},
   "outputs": [],
   "source": [
    "files = []\n",
    "industries = []\n",
    "sic_list = []"
   ]
  },
  {
   "cell_type": "code",
   "execution_count": 140,
   "metadata": {},
   "outputs": [],
   "source": [
    "#getting industry names for html files \n",
    "import codecs\n",
    "\n",
    "if len(filename_html) > 0: \n",
    "    for file_name in filename_html: \n",
    "\n",
    "        f = codecs.open(file_name, 'r')\n",
    "        data = f.read()\n",
    "        data_list = data.split() #splitting into string\n",
    "\n",
    "        try:\n",
    "            start = data_list.index('CLASSIFICATION:') + 1\n",
    "            end  = data_list.index('IRS') -1\n",
    "            industry_name = ' '.join(data_list[start:end]) #industry name\n",
    "            sic_code = data_list[end] #sic code \n",
    "\n",
    "            files.append(file_name[5:len(file_name)-4])\n",
    "            industries.append(industry_name)\n",
    "            sic_list.append(sic_code)\n",
    "            \n",
    "        \n",
    "        except: \n",
    "                files.append(file_name[5:len(file_name)-4])\n",
    "                industries.append(\"NA\")\n",
    "                sic_list.append(\"NA\")\n",
    "                \n",
    "    for i in industries: \n",
    "        if i == '': \n",
    "            i = \"NA\""
   ]
  },
  {
   "cell_type": "code",
   "execution_count": 141,
   "metadata": {},
   "outputs": [],
   "source": [
    "if len(filename_txt) > 0: \n",
    "    for file_name in filename_txt: \n",
    "        my_file = open(file_name, \"r\")\n",
    "        data = my_file.read() #reading the data\n",
    "        data_list = data.split() #splitting into string\n",
    "        \n",
    "        try:\n",
    "            start = data_list.index('CLASSIFICATION:') + 1\n",
    "            end  = data_list.index('IRS') -1\n",
    "            industry_name = ' '.join(data_list[start:end])\n",
    "            sic_code = data_list[end] #sic code \n",
    "            files.append(file_name[5:len(file_name)-4])\n",
    "            industries.append(industry_name)\n",
    "            sic_list.append(sic_code)\n",
    "        \n",
    "        except: \n",
    "            files.append(file_name[5:len(file_name)-4])\n",
    "            industries.append(\"NA\")\n",
    "            sic_list.append(\"NA\")\n",
    "\n",
    "\n",
    "    for i in industries: \n",
    "        if i == '': \n",
    "            i = \"NA\""
   ]
  },
  {
   "cell_type": "code",
   "execution_count": 142,
   "metadata": {},
   "outputs": [],
   "source": [
    "data_industry = pd.DataFrame({'file': files, 'industry': industries, 'sic_code': sic_list})"
   ]
  },
  {
   "cell_type": "code",
   "execution_count": 143,
   "metadata": {},
   "outputs": [],
   "source": [
    "data_industry.to_csv('data_industry_v2.csv')"
   ]
  },
  {
   "cell_type": "code",
   "execution_count": 144,
   "metadata": {},
   "outputs": [],
   "source": [
    "# file_name = filename_html[1]\n",
    "# f = codecs.open(file_name, 'r')\n",
    "# data = f.read()\n",
    "# data_list = data.split() #splitting into string\n",
    "\n",
    "# start = data_list.index('CLASSIFICATION:') + 1\n",
    "# end  = data_list.index('IRS') -1\n",
    "# industry_name = ' '.join(data_list[start:end])\n",
    "# sic_code = data_list[end]"
   ]
  }
 ],
 "metadata": {
  "interpreter": {
   "hash": "7d3b3dcc6eca16da334aea97cc01f60b703ca846c3f8cf6688de364faaf3a707"
  },
  "kernelspec": {
   "display_name": "Python 3.8.5 ('base')",
   "language": "python",
   "name": "python3"
  },
  "language_info": {
   "codemirror_mode": {
    "name": "ipython",
    "version": 3
   },
   "file_extension": ".py",
   "mimetype": "text/x-python",
   "name": "python",
   "nbconvert_exporter": "python",
   "pygments_lexer": "ipython3",
   "version": "3.8.5"
  },
  "orig_nbformat": 4
 },
 "nbformat": 4,
 "nbformat_minor": 2
}
